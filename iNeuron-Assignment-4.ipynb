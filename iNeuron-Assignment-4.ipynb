{
 "cells": [
  {
   "cell_type": "code",
   "execution_count": 21,
   "metadata": {},
   "outputs": [],
   "source": [
    "def filter_long_words():\n",
    "    words = str(input(\"Please enter list of words seperated by space: \"))\n",
    "    words_lst = words.split(\" \")\n",
    "    print (words_lst)\n",
    "    final_lst = []\n",
    "    try:\n",
    "        cnt = int(input(\"Please enter the min length of words to select :\"))\n",
    "    except:\n",
    "        print(\"Please enter numeric value for length match\")\n",
    "        filter_long_words()\n",
    "    else:\n",
    "        for i in range(0,len(words_lst)):\n",
    "            if len(words_lst[i]) > cnt:\n",
    "                final_lst.append(words_lst[i])\n",
    "            else:\n",
    "                pass\n",
    "    return final_lst\n",
    "# why my program is not working in the 2nd iteration if the first iteration is entered with incorrect value??"
   ]
  },
  {
   "cell_type": "code",
   "execution_count": 22,
   "metadata": {},
   "outputs": [
    {
     "name": "stdout",
     "output_type": "stream",
     "text": [
      "Please enter list of words seperated by space: raja dasgupta anuva pani two three four\n",
      "['raja', 'dasgupta', 'anuva', 'pani', 'two', 'three', 'four']\n",
      "Please enter the min length of words to select :3\n"
     ]
    },
    {
     "data": {
      "text/plain": [
       "['raja', 'dasgupta', 'anuva', 'pani', 'three', 'four']"
      ]
     },
     "execution_count": 22,
     "metadata": {},
     "output_type": "execute_result"
    }
   ],
   "source": [
    "filter_long_words()"
   ]
  },
  {
   "cell_type": "code",
   "execution_count": 19,
   "metadata": {},
   "outputs": [],
   "source": [
    "def map_length():\n",
    "    words = str(input(\"Please enter list of words seperated by space: \"))\n",
    "    words_lst = words.split(\" \")\n",
    "    print (words_lst)\n",
    "    final_lst = []\n",
    "    for i in range(0,len(words_lst)):\n",
    "            final_lst.append(len(words_lst[i]))\n",
    "    return final_lst"
   ]
  },
  {
   "cell_type": "code",
   "execution_count": 20,
   "metadata": {},
   "outputs": [
    {
     "name": "stdout",
     "output_type": "stream",
     "text": [
      "Please enter list of words seperated by space: raja dasgupta anuva\n",
      "['raja', 'dasgupta', 'anuva']\n"
     ]
    },
    {
     "data": {
      "text/plain": [
       "[4, 8, 5]"
      ]
     },
     "execution_count": 20,
     "metadata": {},
     "output_type": "execute_result"
    }
   ],
   "source": [
    "map_length()"
   ]
  },
  {
   "cell_type": "code",
   "execution_count": 47,
   "metadata": {},
   "outputs": [],
   "source": [
    "def vowel_match():\n",
    "    match_fnd = False\n",
    "    char = input(\"Please enter your character: \")[0]\n",
    "    print (\"Your character for match is :\", char)\n",
    "    if char in ('a','e','i','o','u'):\n",
    "        match_fnd = True\n",
    "    else:\n",
    "        pass\n",
    "    return match_fnd"
   ]
  },
  {
   "cell_type": "code",
   "execution_count": 50,
   "metadata": {},
   "outputs": [
    {
     "name": "stdout",
     "output_type": "stream",
     "text": [
      "Please enter your character: a\n",
      "Your character for match is : a\n"
     ]
    },
    {
     "data": {
      "text/plain": [
       "True"
      ]
     },
     "execution_count": 50,
     "metadata": {},
     "output_type": "execute_result"
    }
   ],
   "source": [
    "vowel_match()"
   ]
  },
  {
   "cell_type": "code",
   "execution_count": 72,
   "metadata": {},
   "outputs": [],
   "source": [
    "#area = (s*(s-a)*(s-b)*(s-c)) ** 0.5\n",
    "#s(perimeter) = a+b+c/2\n",
    "def area_triangle():\n",
    "    a,b,c = input(\"please enter the length of the sides of triangle seperated by comma :\").split(\",\")\n",
    "    a = int(a)\n",
    "    b = int(b)\n",
    "    c = int(c)\n",
    "    s = (a+b+c)/2\n",
    "    return (print(\"Area of the triangle is :\", area_tri_sub(s,a,b,c)))\n",
    "\n",
    "def area_tri_sub(p,l,b,h):\n",
    "    area = (p*(p-l)*(p-b)*(p-h)) ** 0.5\n",
    "    return area"
   ]
  },
  {
   "cell_type": "code",
   "execution_count": 73,
   "metadata": {},
   "outputs": [
    {
     "name": "stdout",
     "output_type": "stream",
     "text": [
      "please enter the length of the sides of triangle seperated by comma :23,45,54\n",
      "Area of the triangle is : 509.52526924579513\n"
     ]
    }
   ],
   "source": [
    "area_triangle()"
   ]
  },
  {
   "cell_type": "code",
   "execution_count": null,
   "metadata": {},
   "outputs": [],
   "source": []
  }
 ],
 "metadata": {
  "kernelspec": {
   "display_name": "Python 3",
   "language": "python",
   "name": "python3"
  },
  "language_info": {
   "codemirror_mode": {
    "name": "ipython",
    "version": 3
   },
   "file_extension": ".py",
   "mimetype": "text/x-python",
   "name": "python",
   "nbconvert_exporter": "python",
   "pygments_lexer": "ipython3",
   "version": "3.7.3"
  }
 },
 "nbformat": 4,
 "nbformat_minor": 2
}
